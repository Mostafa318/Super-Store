{
 "cells": [
  {
   "cell_type": "code",
   "execution_count": 1,
   "metadata": {},
   "outputs": [],
   "source": [
    "import pandas as pd\n",
    "from sklearn.preprocessing import PolynomialFeatures\n",
    "from sklearn.model_selection import train_test_split\n",
    "from sklearn.linear_model import LinearRegression\n",
    "from sklearn.metrics import r2_score\n",
    "import numpy as np \n",
    "from sqlalchemy import create_engine\n",
    "import mysql.connector"
   ]
  },
  {
   "cell_type": "code",
   "execution_count": 2,
   "metadata": {},
   "outputs": [
    {
     "name": "stdout",
     "output_type": "stream",
     "text": [
      "MySQL connection is closed\n"
     ]
    }
   ],
   "source": [
    "try:\n",
    "    connection = mysql.connector.connect(host='localhost',\n",
    "                                             database='project2',\n",
    "                                             user='root',\n",
    "                                             password='MosiSQL$$')\n",
    "    #Customers\n",
    "    cursor = connection.cursor()\n",
    "    cursor.execute('select * from product')\n",
    "    record = cursor.fetchall()\n",
    "    dfCustomer=pd.DataFrame(record ,columns=[i[0] for i in cursor.description])\n",
    "    #Order \n",
    "    cursor = connection.cursor()\n",
    "    cursor.execute('select * from `order`')\n",
    "    record = cursor.fetchall()\n",
    "    dfOrder  = pd.DataFrame(record , columns=[i[0] for i  in cursor.description])\n",
    "\n",
    "    # #order_detail \n",
    "    cursor = connection.cursor()\n",
    "    cursor.execute('select * from order_detail')\n",
    "    record = cursor.fetchall()\n",
    "    dfOrderDetails = pd.DataFrame(record , columns=[i[0] for i in cursor.description])\n",
    "\n",
    "    \n",
    "except mysql.connector.Error as error:\n",
    "    print(\"Failed to get record from database: {}\".format(error))\n",
    "\n",
    "finally:\n",
    "    if connection.is_connected():\n",
    "        cursor.close()\n",
    "        connection.close()\n",
    "        print(\"MySQL connection is closed\")\n"
   ]
  },
  {
   "cell_type": "code",
   "execution_count": 3,
   "metadata": {},
   "outputs": [],
   "source": [
    "df = pd.merge(dfOrderDetails , dfOrder , on = 'Order ID').drop(columns=['Row ID','Order ID','Order Date','Customer ID'])"
   ]
  },
  {
   "cell_type": "code",
   "execution_count": 4,
   "metadata": {},
   "outputs": [],
   "source": [
    "from sklearn.preprocessing import LabelEncoder , OrdinalEncoder\n",
    "labelMarket  = LabelEncoder()\n",
    "labelPriority = LabelEncoder()\n",
    "labelProduct = LabelEncoder()\n",
    "df['Market'] =  labelMarket.fit_transform(df['Market'])\n",
    "df['Order Priority'] = labelPriority.fit_transform(df['Order Priority'])\n",
    "df['Product ID'] = labelPriority.fit_transform(df['Product ID'])"
   ]
  },
  {
   "cell_type": "code",
   "execution_count": 105,
   "metadata": {},
   "outputs": [
    {
     "data": {
      "text/plain": [
       "8399.98"
      ]
     },
     "execution_count": 105,
     "metadata": {},
     "output_type": "execute_result"
    }
   ],
   "source": [
    "df.Profit.max()"
   ]
  },
  {
   "cell_type": "code",
   "execution_count": 140,
   "metadata": {},
   "outputs": [
    {
     "data": {
      "text/plain": [
       "<Axes: xlabel='Profit', ylabel='Count'>"
      ]
     },
     "execution_count": 140,
     "metadata": {},
     "output_type": "execute_result"
    },
    {
     "data": {
      "image/png": "[encoded data removed]",
      "text/plain": [
       "<Figure size 432x288 with 1 Axes>"
      ]
     },
     "metadata": {
      "needs_background": "light"
     },
     "output_type": "display_data"
    }
   ],
   "source": [
    "import seaborn as sns\n",
    "sns.histplot(df['Profit'], bins=100)\n",
    "# df['Profit']"
   ]
  },
  {
   "cell_type": "code",
   "execution_count": 5,
   "metadata": {},
   "outputs": [
    {
     "data": {
      "text/html": [
       "<div>\n",
       "<style scoped>\n",
       "    .dataframe tbody tr th:only-of-type {\n",
       "        vertical-align: middle;\n",
       "    }\n",
       "\n",
       "    .dataframe tbody tr th {\n",
       "        vertical-align: top;\n",
       "    }\n",
       "\n",
       "    .dataframe thead th {\n",
       "        text-align: right;\n",
       "    }\n",
       "</style>\n",
       "<table border=\"1\" class=\"dataframe\">\n",
       "  <thead>\n",
       "    <tr style=\"text-align: right;\">\n",
       "      <th></th>\n",
       "      <th>Product ID</th>\n",
       "      <th>Sales</th>\n",
       "      <th>Quantity</th>\n",
       "      <th>Discount</th>\n",
       "      <th>Profit</th>\n",
       "      <th>Shipping Cost</th>\n",
       "      <th>Order Priority</th>\n",
       "      <th>Market</th>\n",
       "    </tr>\n",
       "  </thead>\n",
       "  <tbody>\n",
       "    <tr>\n",
       "      <th>Product ID</th>\n",
       "      <td>1.000000</td>\n",
       "      <td>0.022306</td>\n",
       "      <td>-0.018592</td>\n",
       "      <td>-0.045526</td>\n",
       "      <td>0.043911</td>\n",
       "      <td>0.020043</td>\n",
       "      <td>-0.001912</td>\n",
       "      <td>-0.042025</td>\n",
       "    </tr>\n",
       "    <tr>\n",
       "      <th>Sales</th>\n",
       "      <td>0.022306</td>\n",
       "      <td>1.000000</td>\n",
       "      <td>0.312206</td>\n",
       "      <td>-0.085969</td>\n",
       "      <td>0.486865</td>\n",
       "      <td>0.768075</td>\n",
       "      <td>-0.001234</td>\n",
       "      <td>-0.051769</td>\n",
       "    </tr>\n",
       "    <tr>\n",
       "      <th>Quantity</th>\n",
       "      <td>-0.018592</td>\n",
       "      <td>0.312206</td>\n",
       "      <td>1.000000</td>\n",
       "      <td>-0.017037</td>\n",
       "      <td>0.104731</td>\n",
       "      <td>0.272610</td>\n",
       "      <td>0.003148</td>\n",
       "      <td>0.075804</td>\n",
       "    </tr>\n",
       "    <tr>\n",
       "      <th>Discount</th>\n",
       "      <td>-0.045526</td>\n",
       "      <td>-0.085969</td>\n",
       "      <td>-0.017037</td>\n",
       "      <td>1.000000</td>\n",
       "      <td>-0.316201</td>\n",
       "      <td>-0.078325</td>\n",
       "      <td>0.005953</td>\n",
       "      <td>-0.014860</td>\n",
       "    </tr>\n",
       "    <tr>\n",
       "      <th>Profit</th>\n",
       "      <td>0.043911</td>\n",
       "      <td>0.486865</td>\n",
       "      <td>0.104731</td>\n",
       "      <td>-0.316201</td>\n",
       "      <td>1.000000</td>\n",
       "      <td>0.351848</td>\n",
       "      <td>0.000529</td>\n",
       "      <td>-0.019393</td>\n",
       "    </tr>\n",
       "    <tr>\n",
       "      <th>Shipping Cost</th>\n",
       "      <td>0.020043</td>\n",
       "      <td>0.768075</td>\n",
       "      <td>0.272610</td>\n",
       "      <td>-0.078325</td>\n",
       "      <td>0.351848</td>\n",
       "      <td>1.000000</td>\n",
       "      <td>-0.187438</td>\n",
       "      <td>-0.054279</td>\n",
       "    </tr>\n",
       "    <tr>\n",
       "      <th>Order Priority</th>\n",
       "      <td>-0.001912</td>\n",
       "      <td>-0.001234</td>\n",
       "      <td>0.003148</td>\n",
       "      <td>0.005953</td>\n",
       "      <td>0.000529</td>\n",
       "      <td>-0.187438</td>\n",
       "      <td>1.000000</td>\n",
       "      <td>-0.000643</td>\n",
       "    </tr>\n",
       "    <tr>\n",
       "      <th>Market</th>\n",
       "      <td>-0.042025</td>\n",
       "      <td>-0.051769</td>\n",
       "      <td>0.075804</td>\n",
       "      <td>-0.014860</td>\n",
       "      <td>-0.019393</td>\n",
       "      <td>-0.054279</td>\n",
       "      <td>-0.000643</td>\n",
       "      <td>1.000000</td>\n",
       "    </tr>\n",
       "  </tbody>\n",
       "</table>\n",
       "</div>"
      ],
      "text/plain": [
       "                Product ID     Sales  Quantity  Discount    Profit  \\\n",
       "Product ID        1.000000  0.022306 -0.018592 -0.045526  0.043911   \n",
       "Sales             0.022306  1.000000  0.312206 -0.085969  0.486865   \n",
       "Quantity         -0.018592  0.312206  1.000000 -0.017037  0.104731   \n",
       "Discount         -0.045526 -0.085969 -0.017037  1.000000 -0.316201   \n",
       "Profit            0.043911  0.486865  0.104731 -0.316201  1.000000   \n",
       "Shipping Cost     0.020043  0.768075  0.272610 -0.078325  0.351848   \n",
       "Order Priority   -0.001912 -0.001234  0.003148  0.005953  0.000529   \n",
       "Market           -0.042025 -0.051769  0.075804 -0.014860 -0.019393   \n",
       "\n",
       "                Shipping Cost  Order Priority    Market  \n",
       "Product ID           0.020043       -0.001912 -0.042025  \n",
       "Sales                0.768075       -0.001234 -0.051769  \n",
       "Quantity             0.272610        0.003148  0.075804  \n",
       "Discount            -0.078325        0.005953 -0.014860  \n",
       "Profit               0.351848        0.000529 -0.019393  \n",
       "Shipping Cost        1.000000       -0.187438 -0.054279  \n",
       "Order Priority      -0.187438        1.000000 -0.000643  \n",
       "Market              -0.054279       -0.000643  1.000000  "
      ]
     },
     "execution_count": 5,
     "metadata": {},
     "output_type": "execute_result"
    }
   ],
   "source": [
    "df.corr()"
   ]
  },
  {
   "cell_type": "code",
   "execution_count": 6,
   "metadata": {},
   "outputs": [
    {
     "name": "stdout",
     "output_type": "stream",
     "text": [
      "Number of features before selection: 7\n",
      "Number of features after selection: 6\n"
     ]
    }
   ],
   "source": [
    "#Feature selection using mutual information and chi2   \n",
    "from sklearn.preprocessing import MinMaxScaler,StandardScaler\n",
    "from sklearn.feature_selection import SelectKBest, chi2, SelectPercentile ,mutual_info_classif,f_regression\n",
    "data= df.drop(columns='Profit')\n",
    "# feature scaling\n",
    "scaler = MinMaxScaler()\n",
    "standard = StandardScaler()\n",
    "scaled = standard.fit_transform(data)\n",
    "# scaled = data\n",
    "# feature selection\n",
    "# selector = SelectKBest(chi2, k=20)\n",
    "selector = SelectPercentile(f_regression, percentile=90)\n",
    "\n",
    "selected = selector.fit_transform(scaled,df['Profit'])\n",
    "\n",
    "print('Number of features before selection:', data.shape[1])\n",
    "print('Number of features after selection:', selected.shape[1])\n",
    "data = pd.DataFrame(selected)\n"
   ]
  },
  {
   "cell_type": "code",
   "execution_count": 78,
   "metadata": {},
   "outputs": [
    {
     "name": "stdout",
     "output_type": "stream",
     "text": [
      "r2_score :  0.6867074606200658\n"
     ]
    }
   ],
   "source": [
    "poly_transformer = PolynomialFeatures(degree=2, include_bias=True)\n",
    "x_train, x_test, y_train, y_test = train_test_split(data, df['Profit'], train_size=.90, random_state=42)\n",
    "x_val , x_test , y_val  , y_test = train_test_split(x_test , y_test , train_size=0.50 , random_state=42)   \n",
    "\n",
    "x_train_trans = poly_transformer.fit_transform(x_train)\n",
    "x_test_trans = poly_transformer.transform(x_test)\n",
    "x_val_trans =  poly_transformer.transform(x_val)\n",
    "modelReg = LinearRegression()\n",
    "modelReg.fit(x_train_trans, y_train)\n",
    "y_pred = modelReg.predict(x_val_trans)\n",
    "print('r2_score : ',r2_score(y_val, y_pred))"
   ]
  },
  {
   "cell_type": "code",
   "execution_count": 80,
   "metadata": {},
   "outputs": [
    {
     "name": "stderr",
     "output_type": "stream",
     "text": [
      "C:\\Users\\mosta\\AppData\\Local\\Programs\\Python\\Python310\\lib\\site-packages\\sklearn\\ensemble\\_forest.py:414: FutureWarning: `max_features='auto'` has been deprecated in 1.1 and will be removed in 1.3. To keep the past behaviour, explicitly set `max_features=1.0` or remove this parameter as it is also the default value for RandomForestRegressors and ExtraTreesRegressors.\n",
      "  warn(\n"
     ]
    },
    {
     "name": "stdout",
     "output_type": "stream",
     "text": [
      "r2_score :  0.7185017071893038\n"
     ]
    }
   ],
   "source": [
    "from sklearn.ensemble import RandomForestRegressor\n",
    "# modelForest = RandomForestRegressor(n_estimators = 150 ,bootstrap= True, oob_score=True , max_samples=100,criterion='squared_error')\n",
    "modelForest = RandomForestRegressor(max_depth=20, max_features='auto', min_samples_leaf=4,\n",
    "                      min_samples_split=5)\n",
    "# df.columns =df.columns.astype(str)\n",
    "# train3 = finalDf\n",
    "# train = train3[:7000]\n",
    "# val = train3[7000:]\n",
    "modelForest.fit(x_train ,y_train)\n",
    "modelForest.get_params()\n",
    "# model.score(val.drop(['gender'],axis=1),val['gender'])\n",
    "from sklearn.metrics import recall_score\n",
    "from sklearn.metrics import f1_score\n",
    "\n",
    "\n",
    "pred = modelForest.predict(x_val)\n",
    "print('r2_score : ',r2_score(y_val, pred))\n"
   ]
  },
  {
   "cell_type": "code",
   "execution_count": null,
   "metadata": {},
   "outputs": [],
   "source": [
    "from flaml import AutoML\n",
    "automl = AutoML()\n",
    "automl.fit(x_train, y_train, task='regression')"
   ]
  },
  {
   "cell_type": "code",
   "execution_count": 16,
   "metadata": {},
   "outputs": [],
   "source": [
    "from keras.models import Sequential\n",
    "from keras.layers import Dense, SimpleRNN\n",
    "from sklearn.preprocessing import MinMaxScaler\n",
    "from sklearn.metrics import mean_squared_error\n",
    "import math\n",
    "import matplotlib.pyplot as plt\n",
    "import keras \n",
    "from keras.optimizers import RMSprop , SGD , Adam\n",
    "from keras.callbacks import EarlyStopping \n",
    "from sklearn import preprocessing \n",
    "from sklearn.preprocessing import scale\n"
   ]
  },
  {
   "cell_type": "code",
   "execution_count": 81,
   "metadata": {},
   "outputs": [],
   "source": [
    "modelDeep = Sequential() \n",
    "modelDeep.add(Dense(128, kernel_initializer = 'normal', activation = 'relu',input_shape = (6,))) \n",
    "modelDeep.add(Dense(128, activation = 'relu'))\n",
    "modelDeep.add(Dense(128, activation = 'relu'))\n",
    "modelDeep.add(Dense(128, activation = 'relu'))\n",
    "modelDeep.add(Dense(128, activation = 'relu'))\n",
    "modelDeep.add(Dense(128, activation = 'relu'))\n",
    "modelDeep.add(Dense(128, activation = 'relu'))\n",
    "# modelDeep.add(Dense(64, activation = 'relu'))\n",
    "# modelDeep.add(Dense(64, activation = 'relu'))\n",
    "\n",
    "\n",
    "\n",
    "modelDeep.add(Dense(1))"
   ]
  },
  {
   "cell_type": "code",
   "execution_count": 82,
   "metadata": {},
   "outputs": [],
   "source": [
    "modelDeep.compile(\n",
    "   loss = 'mse', \n",
    "   optimizer = 'adam', \n",
    "   metrics = 'mean_absolute_error'\n",
    ")"
   ]
  },
  {
   "cell_type": "code",
   "execution_count": 83,
   "metadata": {},
   "outputs": [
    {
     "name": "stdout",
     "output_type": "stream",
     "text": [
      "Epoch 1/500\n",
      "280/280 [==============================] - 5s 9ms/step - loss: 19579.7969 - mean_absolute_error: 51.2021 - val_loss: 8392.9434 - val_mean_absolute_error: 41.6662\n",
      "Epoch 2/500\n",
      "280/280 [==============================] - 2s 8ms/step - loss: 14444.2197 - mean_absolute_error: 43.0286 - val_loss: 11848.6855 - val_mean_absolute_error: 56.6899\n",
      "Epoch 3/500\n",
      "280/280 [==============================] - 2s 8ms/step - loss: 14183.6729 - mean_absolute_error: 43.1483 - val_loss: 9534.3174 - val_mean_absolute_error: 41.5715\n",
      "Epoch 4/500\n",
      "280/280 [==============================] - 2s 7ms/step - loss: 12386.3896 - mean_absolute_error: 40.7371 - val_loss: 7490.0303 - val_mean_absolute_error: 38.0536\n",
      "Epoch 5/500\n",
      "280/280 [==============================] - 2s 8ms/step - loss: 12349.3770 - mean_absolute_error: 40.3493 - val_loss: 8081.3770 - val_mean_absolute_error: 38.6003\n",
      "Epoch 6/500\n",
      "280/280 [==============================] - 2s 7ms/step - loss: 11523.0918 - mean_absolute_error: 38.7442 - val_loss: 7513.3325 - val_mean_absolute_error: 37.5669\n",
      "Epoch 7/500\n",
      "280/280 [==============================] - 2s 8ms/step - loss: 11669.9365 - mean_absolute_error: 40.3464 - val_loss: 7797.0820 - val_mean_absolute_error: 38.1525\n",
      "Epoch 8/500\n",
      "280/280 [==============================] - 2s 9ms/step - loss: 11582.4395 - mean_absolute_error: 39.5107 - val_loss: 9456.3877 - val_mean_absolute_error: 45.4167\n",
      "Epoch 9/500\n",
      "280/280 [==============================] - 2s 7ms/step - loss: 11755.5293 - mean_absolute_error: 41.3392 - val_loss: 9481.2090 - val_mean_absolute_error: 41.9062\n",
      "Epoch 10/500\n",
      "280/280 [==============================] - 2s 8ms/step - loss: 10627.6250 - mean_absolute_error: 39.3710 - val_loss: 7385.2471 - val_mean_absolute_error: 36.1570\n",
      "Epoch 11/500\n",
      "280/280 [==============================] - 2s 8ms/step - loss: 10304.8604 - mean_absolute_error: 38.0574 - val_loss: 7183.5356 - val_mean_absolute_error: 37.9252\n",
      "Epoch 12/500\n",
      "280/280 [==============================] - 2s 8ms/step - loss: 10144.8760 - mean_absolute_error: 38.9184 - val_loss: 7449.6670 - val_mean_absolute_error: 35.9217\n",
      "Epoch 13/500\n",
      "280/280 [==============================] - 2s 8ms/step - loss: 8436.4727 - mean_absolute_error: 36.9064 - val_loss: 8520.7432 - val_mean_absolute_error: 36.4472\n",
      "Epoch 14/500\n",
      "280/280 [==============================] - 2s 8ms/step - loss: 10252.3516 - mean_absolute_error: 38.2841 - val_loss: 8416.4395 - val_mean_absolute_error: 39.7663\n",
      "Epoch 15/500\n",
      "280/280 [==============================] - 2s 8ms/step - loss: 9254.2354 - mean_absolute_error: 38.6382 - val_loss: 8553.5586 - val_mean_absolute_error: 36.8583\n",
      "Epoch 16/500\n",
      "280/280 [==============================] - 2s 8ms/step - loss: 10126.5098 - mean_absolute_error: 39.2809 - val_loss: 9132.4512 - val_mean_absolute_error: 39.5548\n",
      "Epoch 17/500\n",
      "280/280 [==============================] - 2s 8ms/step - loss: 8648.2305 - mean_absolute_error: 37.6491 - val_loss: 7759.7881 - val_mean_absolute_error: 35.7987\n",
      "Epoch 18/500\n",
      "280/280 [==============================] - 2s 7ms/step - loss: 8982.2236 - mean_absolute_error: 38.0725 - val_loss: 7326.9883 - val_mean_absolute_error: 36.9637\n",
      "Epoch 19/500\n",
      "280/280 [==============================] - 2s 8ms/step - loss: 9141.4668 - mean_absolute_error: 38.3547 - val_loss: 9048.3721 - val_mean_absolute_error: 38.8042\n",
      "Epoch 20/500\n",
      "280/280 [==============================] - 2s 8ms/step - loss: 9192.9775 - mean_absolute_error: 37.1358 - val_loss: 9599.7402 - val_mean_absolute_error: 36.1873\n",
      "Epoch 21/500\n",
      "280/280 [==============================] - 2s 7ms/step - loss: 8521.8086 - mean_absolute_error: 37.1464 - val_loss: 8247.9199 - val_mean_absolute_error: 35.9204\n",
      "Epoch 22/500\n",
      "280/280 [==============================] - 2s 8ms/step - loss: 8654.5195 - mean_absolute_error: 37.2275 - val_loss: 8012.2812 - val_mean_absolute_error: 36.1816\n",
      "Epoch 23/500\n",
      "280/280 [==============================] - 2s 8ms/step - loss: 8744.3955 - mean_absolute_error: 37.1150 - val_loss: 10107.2588 - val_mean_absolute_error: 36.7149\n",
      "Epoch 24/500\n",
      "280/280 [==============================] - 2s 7ms/step - loss: 8486.1338 - mean_absolute_error: 37.0616 - val_loss: 7993.5005 - val_mean_absolute_error: 35.8165\n",
      "Epoch 25/500\n",
      "280/280 [==============================] - 2s 8ms/step - loss: 8623.4014 - mean_absolute_error: 36.7875 - val_loss: 7587.5039 - val_mean_absolute_error: 36.6696\n",
      "Epoch 26/500\n",
      "280/280 [==============================] - 2s 8ms/step - loss: 8030.9995 - mean_absolute_error: 36.4455 - val_loss: 7929.7769 - val_mean_absolute_error: 35.2464\n",
      "Epoch 27/500\n",
      "280/280 [==============================] - 2s 8ms/step - loss: 7837.9717 - mean_absolute_error: 36.1275 - val_loss: 8044.4541 - val_mean_absolute_error: 35.3662\n",
      "Epoch 28/500\n",
      "280/280 [==============================] - 2s 8ms/step - loss: 7901.1035 - mean_absolute_error: 36.0336 - val_loss: 8709.6230 - val_mean_absolute_error: 36.6112\n",
      "Epoch 29/500\n",
      "280/280 [==============================] - 3s 10ms/step - loss: 8353.4893 - mean_absolute_error: 36.3440 - val_loss: 7477.8237 - val_mean_absolute_error: 34.9885\n",
      "Epoch 30/500\n",
      "280/280 [==============================] - 2s 9ms/step - loss: 8273.6943 - mean_absolute_error: 36.4664 - val_loss: 8080.2266 - val_mean_absolute_error: 37.0656\n",
      "Epoch 31/500\n",
      "280/280 [==============================] - 2s 9ms/step - loss: 11693.3301 - mean_absolute_error: 37.4810 - val_loss: 7014.4951 - val_mean_absolute_error: 35.1451\n",
      "Epoch 32/500\n",
      "280/280 [==============================] - 2s 8ms/step - loss: 8559.5068 - mean_absolute_error: 36.7811 - val_loss: 8145.3208 - val_mean_absolute_error: 35.8227\n",
      "Epoch 33/500\n",
      "280/280 [==============================] - 2s 8ms/step - loss: 8085.9146 - mean_absolute_error: 36.2361 - val_loss: 8776.6436 - val_mean_absolute_error: 37.8787\n",
      "Epoch 34/500\n",
      "280/280 [==============================] - 2s 8ms/step - loss: 7546.0801 - mean_absolute_error: 35.7468 - val_loss: 8191.3745 - val_mean_absolute_error: 35.6145\n",
      "Epoch 35/500\n",
      "280/280 [==============================] - 2s 8ms/step - loss: 7405.9077 - mean_absolute_error: 35.5114 - val_loss: 8152.3237 - val_mean_absolute_error: 35.5682\n",
      "Epoch 36/500\n",
      "280/280 [==============================] - 2s 8ms/step - loss: 7507.5605 - mean_absolute_error: 35.2134 - val_loss: 7183.9307 - val_mean_absolute_error: 35.1413\n",
      "Epoch 37/500\n",
      "280/280 [==============================] - 2s 8ms/step - loss: 7339.8657 - mean_absolute_error: 35.2519 - val_loss: 7250.8506 - val_mean_absolute_error: 35.1189\n",
      "Epoch 38/500\n",
      "280/280 [==============================] - 2s 8ms/step - loss: 9823.4932 - mean_absolute_error: 36.2739 - val_loss: 7348.0508 - val_mean_absolute_error: 34.9385\n",
      "Epoch 39/500\n",
      "280/280 [==============================] - 2s 7ms/step - loss: 7386.8320 - mean_absolute_error: 35.3428 - val_loss: 7536.3677 - val_mean_absolute_error: 34.8380\n",
      "Epoch 40/500\n",
      "280/280 [==============================] - 2s 8ms/step - loss: 8090.2061 - mean_absolute_error: 35.8497 - val_loss: 7288.0879 - val_mean_absolute_error: 35.0345\n",
      "Epoch 41/500\n",
      "280/280 [==============================] - 2s 9ms/step - loss: 7712.8564 - mean_absolute_error: 35.7358 - val_loss: 7386.1733 - val_mean_absolute_error: 34.9445\n",
      "Epoch 42/500\n",
      "280/280 [==============================] - 2s 8ms/step - loss: 7134.0596 - mean_absolute_error: 35.0237 - val_loss: 7790.4824 - val_mean_absolute_error: 34.7034\n",
      "Epoch 43/500\n",
      "280/280 [==============================] - 2s 8ms/step - loss: 7447.9619 - mean_absolute_error: 35.1273 - val_loss: 8356.4102 - val_mean_absolute_error: 36.4481\n",
      "Epoch 44/500\n",
      "280/280 [==============================] - 2s 9ms/step - loss: 7510.2681 - mean_absolute_error: 35.6377 - val_loss: 8949.9229 - val_mean_absolute_error: 35.4548\n",
      "Epoch 45/500\n",
      "280/280 [==============================] - 2s 8ms/step - loss: 7366.2812 - mean_absolute_error: 35.2743 - val_loss: 7279.6860 - val_mean_absolute_error: 35.1699\n",
      "Epoch 46/500\n",
      "280/280 [==============================] - 2s 7ms/step - loss: 7216.0947 - mean_absolute_error: 35.1272 - val_loss: 7723.3149 - val_mean_absolute_error: 35.9292\n",
      "Epoch 47/500\n",
      "280/280 [==============================] - 2s 8ms/step - loss: 7499.4067 - mean_absolute_error: 35.4242 - val_loss: 7654.2939 - val_mean_absolute_error: 34.7063\n",
      "Epoch 48/500\n",
      "280/280 [==============================] - 2s 8ms/step - loss: 9024.1797 - mean_absolute_error: 36.0162 - val_loss: 8399.4492 - val_mean_absolute_error: 35.9172\n",
      "Epoch 49/500\n",
      "280/280 [==============================] - 2s 8ms/step - loss: 7145.5151 - mean_absolute_error: 34.8221 - val_loss: 7306.6758 - val_mean_absolute_error: 34.4999\n",
      "Epoch 50/500\n",
      "280/280 [==============================] - 2s 7ms/step - loss: 6900.6187 - mean_absolute_error: 34.6020 - val_loss: 7418.8979 - val_mean_absolute_error: 34.9281\n",
      "Epoch 51/500\n",
      "280/280 [==============================] - 2s 8ms/step - loss: 6907.2246 - mean_absolute_error: 34.6067 - val_loss: 7384.5527 - val_mean_absolute_error: 34.4918\n",
      "Epoch 52/500\n",
      "280/280 [==============================] - 2s 8ms/step - loss: 7373.9561 - mean_absolute_error: 35.1381 - val_loss: 7437.0278 - val_mean_absolute_error: 34.7511\n",
      "Epoch 53/500\n",
      "280/280 [==============================] - 2s 8ms/step - loss: 6669.4204 - mean_absolute_error: 34.2528 - val_loss: 8079.8301 - val_mean_absolute_error: 34.9084\n",
      "Epoch 54/500\n",
      "280/280 [==============================] - 2s 8ms/step - loss: 7276.4351 - mean_absolute_error: 34.9907 - val_loss: 7246.7373 - val_mean_absolute_error: 34.7095\n",
      "Epoch 55/500\n",
      "280/280 [==============================] - 2s 8ms/step - loss: 7041.6445 - mean_absolute_error: 35.0008 - val_loss: 7547.7412 - val_mean_absolute_error: 34.8342\n",
      "Epoch 56/500\n",
      "280/280 [==============================] - 2s 8ms/step - loss: 7566.4062 - mean_absolute_error: 34.7047 - val_loss: 7164.3784 - val_mean_absolute_error: 34.6248\n",
      "Epoch 57/500\n",
      "280/280 [==============================] - 2s 8ms/step - loss: 7174.3574 - mean_absolute_error: 34.9726 - val_loss: 6903.1675 - val_mean_absolute_error: 35.1815\n",
      "Epoch 58/500\n",
      "280/280 [==============================] - 2s 9ms/step - loss: 7244.0127 - mean_absolute_error: 34.8047 - val_loss: 9892.6680 - val_mean_absolute_error: 35.9149\n",
      "Epoch 59/500\n",
      "280/280 [==============================] - 3s 10ms/step - loss: 6917.4951 - mean_absolute_error: 34.4972 - val_loss: 7982.7734 - val_mean_absolute_error: 35.2742\n",
      "Epoch 60/500\n",
      "280/280 [==============================] - 2s 9ms/step - loss: 6929.9731 - mean_absolute_error: 34.5068 - val_loss: 8456.9346 - val_mean_absolute_error: 34.8582\n",
      "Epoch 61/500\n",
      "280/280 [==============================] - 2s 8ms/step - loss: 7423.7495 - mean_absolute_error: 34.4913 - val_loss: 7574.9199 - val_mean_absolute_error: 35.6253\n",
      "Epoch 62/500\n",
      "280/280 [==============================] - 2s 8ms/step - loss: 8660.6367 - mean_absolute_error: 35.8999 - val_loss: 8753.2266 - val_mean_absolute_error: 35.4607\n",
      "Epoch 63/500\n",
      "280/280 [==============================] - 2s 8ms/step - loss: 7044.3096 - mean_absolute_error: 34.4143 - val_loss: 7621.6934 - val_mean_absolute_error: 35.4344\n",
      "Epoch 64/500\n",
      "280/280 [==============================] - 2s 8ms/step - loss: 7013.4424 - mean_absolute_error: 34.6022 - val_loss: 7291.6631 - val_mean_absolute_error: 34.9241\n",
      "Epoch 65/500\n",
      "280/280 [==============================] - 2s 8ms/step - loss: 6677.8042 - mean_absolute_error: 33.9029 - val_loss: 7266.5449 - val_mean_absolute_error: 34.5189\n",
      "Epoch 66/500\n",
      "280/280 [==============================] - 2s 8ms/step - loss: 7017.5088 - mean_absolute_error: 34.5059 - val_loss: 8299.3271 - val_mean_absolute_error: 35.0190\n",
      "Epoch 67/500\n",
      "280/280 [==============================] - 2s 7ms/step - loss: 6885.5562 - mean_absolute_error: 34.2373 - val_loss: 7026.1924 - val_mean_absolute_error: 34.6553\n",
      "Epoch 68/500\n",
      "280/280 [==============================] - 2s 8ms/step - loss: 6569.5742 - mean_absolute_error: 34.1369 - val_loss: 8455.7871 - val_mean_absolute_error: 34.9874\n",
      "Epoch 69/500\n",
      "280/280 [==============================] - 2s 8ms/step - loss: 6554.8755 - mean_absolute_error: 33.9222 - val_loss: 6829.3477 - val_mean_absolute_error: 34.3282\n",
      "Epoch 70/500\n",
      "280/280 [==============================] - 2s 8ms/step - loss: 6413.3638 - mean_absolute_error: 33.9304 - val_loss: 7480.8833 - val_mean_absolute_error: 34.9227\n",
      "Epoch 71/500\n",
      "280/280 [==============================] - 2s 7ms/step - loss: 6722.7178 - mean_absolute_error: 34.0868 - val_loss: 7743.6025 - val_mean_absolute_error: 35.1492\n",
      "Epoch 72/500\n",
      "280/280 [==============================] - 2s 8ms/step - loss: 7207.7100 - mean_absolute_error: 34.4729 - val_loss: 7667.7241 - val_mean_absolute_error: 34.8888\n",
      "Epoch 73/500\n",
      "280/280 [==============================] - 2s 8ms/step - loss: 6972.0586 - mean_absolute_error: 34.1204 - val_loss: 8352.4648 - val_mean_absolute_error: 36.7007\n",
      "Epoch 74/500\n",
      "280/280 [==============================] - 2s 8ms/step - loss: 7341.2686 - mean_absolute_error: 34.6120 - val_loss: 7493.3071 - val_mean_absolute_error: 34.9022\n",
      "Epoch 75/500\n",
      "280/280 [==============================] - 2s 7ms/step - loss: 6440.5298 - mean_absolute_error: 33.9195 - val_loss: 7411.8604 - val_mean_absolute_error: 34.4559\n",
      "Epoch 76/500\n",
      "280/280 [==============================] - 2s 8ms/step - loss: 6244.6753 - mean_absolute_error: 33.6318 - val_loss: 8067.7251 - val_mean_absolute_error: 34.8478\n",
      "Epoch 77/500\n",
      "280/280 [==============================] - 2s 8ms/step - loss: 6236.9126 - mean_absolute_error: 33.6006 - val_loss: 7636.2329 - val_mean_absolute_error: 34.6822\n",
      "Epoch 78/500\n",
      "280/280 [==============================] - 2s 8ms/step - loss: 6414.7114 - mean_absolute_error: 33.7214 - val_loss: 7120.3916 - val_mean_absolute_error: 34.1572\n",
      "Epoch 79/500\n",
      "280/280 [==============================] - 2s 8ms/step - loss: 7200.1660 - mean_absolute_error: 34.6698 - val_loss: 7556.8882 - val_mean_absolute_error: 34.6505\n",
      "Epoch 80/500\n",
      "280/280 [==============================] - 2s 7ms/step - loss: 6469.1396 - mean_absolute_error: 33.6996 - val_loss: 7400.6587 - val_mean_absolute_error: 34.6943\n",
      "Epoch 81/500\n",
      "280/280 [==============================] - 2s 8ms/step - loss: 6415.6743 - mean_absolute_error: 33.7047 - val_loss: 7143.7827 - val_mean_absolute_error: 34.5116\n",
      "Epoch 82/500\n",
      "280/280 [==============================] - 2s 8ms/step - loss: 7163.4854 - mean_absolute_error: 34.4853 - val_loss: 8322.3887 - val_mean_absolute_error: 34.7139\n",
      "Epoch 83/500\n",
      "280/280 [==============================] - 2s 8ms/step - loss: 6355.3696 - mean_absolute_error: 33.7307 - val_loss: 7139.1587 - val_mean_absolute_error: 34.4566\n",
      "Epoch 84/500\n",
      "280/280 [==============================] - 2s 8ms/step - loss: 6324.0630 - mean_absolute_error: 33.6246 - val_loss: 7383.5522 - val_mean_absolute_error: 35.4180\n",
      "Epoch 85/500\n",
      "280/280 [==============================] - 2s 7ms/step - loss: 6115.0879 - mean_absolute_error: 33.3304 - val_loss: 7658.5591 - val_mean_absolute_error: 35.3776\n",
      "Epoch 86/500\n",
      "280/280 [==============================] - 2s 8ms/step - loss: 6816.1436 - mean_absolute_error: 34.4478 - val_loss: 8459.8682 - val_mean_absolute_error: 35.6286\n",
      "Epoch 87/500\n",
      "280/280 [==============================] - 2s 8ms/step - loss: 6243.0098 - mean_absolute_error: 33.7184 - val_loss: 8234.2510 - val_mean_absolute_error: 34.3530\n",
      "Epoch 88/500\n",
      "280/280 [==============================] - 3s 9ms/step - loss: 6625.4717 - mean_absolute_error: 33.6032 - val_loss: 9851.6934 - val_mean_absolute_error: 36.4714\n",
      "Epoch 89/500\n",
      "280/280 [==============================] - 3s 9ms/step - loss: 8224.5791 - mean_absolute_error: 35.1527 - val_loss: 7522.8848 - val_mean_absolute_error: 34.7578\n",
      "Epoch 90/500\n",
      "280/280 [==============================] - 2s 8ms/step - loss: 7825.1782 - mean_absolute_error: 34.3869 - val_loss: 7418.9717 - val_mean_absolute_error: 34.6617\n",
      "Epoch 91/500\n",
      "280/280 [==============================] - 2s 7ms/step - loss: 6427.9331 - mean_absolute_error: 33.4819 - val_loss: 8976.1387 - val_mean_absolute_error: 35.1312\n",
      "Epoch 92/500\n",
      "280/280 [==============================] - 2s 8ms/step - loss: 8561.2148 - mean_absolute_error: 34.3194 - val_loss: 7535.0757 - val_mean_absolute_error: 34.4196\n",
      "Epoch 93/500\n",
      "280/280 [==============================] - 2s 8ms/step - loss: 6459.6362 - mean_absolute_error: 33.2831 - val_loss: 7447.8447 - val_mean_absolute_error: 34.4394\n",
      "Epoch 94/500\n",
      "280/280 [==============================] - 2s 8ms/step - loss: 6255.9888 - mean_absolute_error: 33.2433 - val_loss: 7142.2847 - val_mean_absolute_error: 34.3907\n",
      "Epoch 95/500\n",
      "280/280 [==============================] - 2s 8ms/step - loss: 5818.8711 - mean_absolute_error: 32.9147 - val_loss: 7635.9067 - val_mean_absolute_error: 34.4720\n",
      "Epoch 96/500\n",
      "280/280 [==============================] - 2s 7ms/step - loss: 6119.7563 - mean_absolute_error: 33.1881 - val_loss: 7476.0654 - val_mean_absolute_error: 34.6884\n",
      "Epoch 97/500\n",
      "280/280 [==============================] - 2s 8ms/step - loss: 6105.3555 - mean_absolute_error: 33.2795 - val_loss: 7296.3105 - val_mean_absolute_error: 34.2481\n",
      "Epoch 98/500\n",
      "280/280 [==============================] - 2s 8ms/step - loss: 5743.5059 - mean_absolute_error: 32.7938 - val_loss: 7675.6846 - val_mean_absolute_error: 34.7912\n",
      "Epoch 99/500\n",
      "280/280 [==============================] - 2s 8ms/step - loss: 5989.4707 - mean_absolute_error: 33.0858 - val_loss: 7619.5728 - val_mean_absolute_error: 34.4548\n"
     ]
    }
   ],
   "source": [
    "history = modelDeep.fit(\n",
    "   x_train.values, y_train.values,    \n",
    "   batch_size=128, \n",
    "   epochs = 500, \n",
    "   verbose = 1, \n",
    "   validation_split = 0.2, \n",
    "   callbacks = [EarlyStopping(monitor = 'val_loss', patience = 30)]\n",
    ")"
   ]
  },
  {
   "cell_type": "code",
   "execution_count": 84,
   "metadata": {},
   "outputs": [
    {
     "name": "stdout",
     "output_type": "stream",
     "text": [
      "Test loss: 6080.24658203125\n",
      "Test accuracy: 33.444454193115234\n",
      "78/78 [==============================] - 0s 2ms/step\n"
     ]
    }
   ],
   "source": [
    "score = modelDeep.evaluate(x_val.values, y_val.values, verbose = 0) \n",
    "print('Test loss:', score[0]) \n",
    "print('Test accuracy:', score[1])\n",
    "prediction = modelDeep.predict(x_val.values)"
   ]
  },
  {
   "cell_type": "code",
   "execution_count": 85,
   "metadata": {},
   "outputs": [
    {
     "data": {
      "text/plain": [
       "0.7164608286858798"
      ]
     },
     "execution_count": 85,
     "metadata": {},
     "output_type": "execute_result"
    }
   ],
   "source": [
    "prediction.tolist()\n",
    "r2_score(y_val.values,prediction.tolist())\n"
   ]
  },
  {
   "cell_type": "code",
   "execution_count": 86,
   "metadata": {},
   "outputs": [
    {
     "data": {
      "image/png": "[encoded data removed]",
      "text/plain": [
       "<Figure size 432x288 with 1 Axes>"
      ]
     },
     "metadata": {
      "needs_background": "light"
     },
     "output_type": "display_data"
    },
    {
     "data": {
      "image/png": "[encoded data removed]",
      "text/plain": [
       "<Figure size 432x288 with 1 Axes>"
      ]
     },
     "metadata": {
      "needs_background": "light"
     },
     "output_type": "display_data"
    }
   ],
   "source": [
    "import matplotlib.pyplot as plt\n",
    "plt.plot(history.history['mean_absolute_error'])\n",
    "plt.plot(history.history['val_mean_absolute_error'])\n",
    "plt.title('model mean_absolute_error')\n",
    "plt.ylabel('mean_absolute_error')\n",
    "plt.xlabel('epoch')\n",
    "plt.legend(['train', 'test'], loc='upper left')\n",
    "plt.show()\n",
    "# summarize history for loss\n",
    "plt.plot(history.history['loss'])\n",
    "plt.plot(history.history['val_loss'])\n",
    "plt.title('model loss')\n",
    "plt.ylabel('loss')\n",
    "plt.xlabel('epoch')\n",
    "plt.legend(['train', 'test'], loc='upper left')\n",
    "plt.show()"
   ]
  },
  {
   "cell_type": "code",
   "execution_count": 88,
   "metadata": {},
   "outputs": [
    {
     "name": "stdout",
     "output_type": "stream",
     "text": [
      "78/78 [==============================] - 0s 3ms/step\n"
     ]
    },
    {
     "data": {
      "image/png": "[encoded data removed]",
      "text/plain": [
       "<Figure size 1080x720 with 1 Axes>"
      ]
     },
     "metadata": {
      "needs_background": "light"
     },
     "output_type": "display_data"
    }
   ],
   "source": [
    "forestAnswer = modelForest.predict(x_test)\n",
    "regAnswer = modelReg.predict(poly_transformer.transform(x_test))\n",
    "deepAnswer = modelDeep.predict(x_test.values) \n",
    "import matplotlib.pyplot as plt\n",
    "plt.figure(figsize=(15,10))\n",
    "\n",
    "x = list(range(0, len(x_test)))\n",
    "plt.plot(x[:20], list(regAnswer)[:20], label ='Regression Predict')\n",
    "plt.plot(x[:20], list(forestAnswer)[:20], '-.', label ='RandomForest Predict')\n",
    "plt.plot(x[:20], list(deepAnswer)[:20], '*', label ='DeepLearning Predict')\n",
    "\n",
    "plt.xlabel(\"Number of Prediction\")\n",
    "plt.ylabel(\"Value of Prediction\")\n",
    "plt.legend()\n",
    "plt.title('Predictions')\n",
    "plt.show()\n"
   ]
  },
  {
   "cell_type": "code",
   "execution_count": 89,
   "metadata": {},
   "outputs": [
    {
     "name": "stdout",
     "output_type": "stream",
     "text": [
      "Cosine Similarity Between Forest and Deep 0.9194767633265071\n",
      "Cosine Similarity Between Forest and Reg 0.8924561235033888\n",
      "Cosine Similarity Between Deep and Reg 0.9835827923030349\n"
     ]
    }
   ],
   "source": [
    "from numpy.linalg import norm\n",
    "cosine = np.dot(forestAnswer,deepAnswer)/(norm(forestAnswer)*norm(deepAnswer))\n",
    "print('Cosine Similarity Between Forest and Deep',cosine[0])\n",
    "cosine = np.dot(forestAnswer,regAnswer)/(norm(forestAnswer)*norm(regAnswer))\n",
    "print('Cosine Similarity Between Forest and Reg',cosine)\n",
    "cosine = np.dot(pd.DataFrame(deepAnswer.tolist())[0].tolist(),regAnswer)/(norm(pd.DataFrame(deepAnswer.tolist())[0].tolist())*norm(regAnswer))\n",
    "print('Cosine Similarity Between Deep and Reg',cosine)\n"
   ]
  },
  {
   "cell_type": "code",
   "execution_count": 104,
   "metadata": {},
   "outputs": [
    {
     "name": "stdout",
     "output_type": "stream",
     "text": [
      "r2_score for test set in forrstModel: 0.3181128410392947\n",
      "r2_score for test set in deepModel: 0.8323839217448559\n",
      "r2_score for test set in regModel: 0.8538892456769652\n"
     ]
    }
   ],
   "source": [
    "print('r2_score for test set in forrstModel:',r2_score(forestAnswer,y_test))\n",
    "print('r2_score for test set in deepModel:',r2_score(deepAnswer,y_test))\n",
    "print('r2_score for test set in regModel:',r2_score(regAnswer,y_test))"
   ]
  },
  {
   "cell_type": "code",
   "execution_count": 112,
   "metadata": {},
   "outputs": [],
   "source": [
    "pd.DataFrame(regAnswer).rename(columns= {0:'Profit Prediction'}).to_csv('Model Prediction.csv')\n",
    "pd.DataFrame(y_test).rename(columns = {'Profit':'Actual Profit'}).reset_index(drop=True).to_csv('Actual Profit.csv')"
   ]
  }
 ],
 "metadata": {
  "kernelspec": {
   "display_name": "Python 3 (ipykernel)",
   "language": "python",
   "name": "python3"
  },
  "language_info": {
   "codemirror_mode": {
    "name": "ipython",
    "version": 3
   },
   "file_extension": ".py",
   "mimetype": "text/x-python",
   "name": "python",
   "nbconvert_exporter": "python",
   "pygments_lexer": "ipython3",
   "version": "3.10.5"
  },
  "orig_nbformat": 4
 },
 "nbformat": 4,
 "nbformat_minor": 2
}
